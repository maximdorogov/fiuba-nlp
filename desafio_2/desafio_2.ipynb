{
 "cells": [
  {
   "cell_type": "markdown",
   "id": "905aa129",
   "metadata": {},
   "source": [
    "# Desafio 1\n",
    "## Alumno: Maxim Dorogov\n",
    "\n",
    "Consigna del desafio 2:\n",
    "1. Crear sus propios vectores con Gensim basado en lo visto en clase con otro dataset.\n",
    "1. Probar términos de interés y explicar similitudes en el espacio de embeddings (sacar conclusiones entre palabras similitudes y diferencias).\n",
    "1. Graficarlos.\n",
    "1. Obtener conclusiones.\n"
   ]
  },
  {
   "cell_type": "code",
   "execution_count": 60,
   "id": "0a1539af",
   "metadata": {},
   "outputs": [],
   "source": [
    "from tensorflow.keras.preprocessing.text import text_to_word_sequence\n",
    "from gensim.models.callbacks import CallbackAny2Vec\n",
    "import pandas as pd\n",
    "from gensim.models import Word2Vec\n",
    "import matplotlib.pyplot as plt\n",
    "import numpy as np"
   ]
  },
  {
   "cell_type": "markdown",
   "id": "5757ff84",
   "metadata": {},
   "source": [
    "## Datos\n",
    "\n",
    "El dataset a utilizar es [Lovecraft Fiction](https://www.kaggle.com/datasets/bennijesus/lovecraft-fiction?resource=download), que contiene relatos, en idioma ingles, del autor H.P. Lovecraft."
   ]
  },
  {
   "cell_type": "code",
   "execution_count": 8,
   "id": "c2280ead",
   "metadata": {},
   "outputs": [
    {
     "name": "stderr",
     "output_type": "stream",
     "text": [
      "/tmp/ipykernel_13157/3355303101.py:5: ParserWarning: Falling back to the 'python' engine because the 'c' engine does not support regex separators (separators > 1 char and different from '\\s+' are interpreted as regex); you can avoid this warning by specifying engine='python'.\n",
      "  df = pd.read_csv(DATA_PATH, sep=\"/n\", header=None)\n"
     ]
    },
    {
     "name": "stdout",
     "output_type": "stream",
     "text": [
      "Cantidad de lineas: 45735\n"
     ]
    }
   ],
   "source": [
    "# levantamos el archivo concat.txt el cual contiene todos los relatos concatenados.\n",
    "\n",
    "DATA_PATH = 'data/concat.txt'\n",
    "\n",
    "df = pd.read_csv(DATA_PATH, sep=\"/n\", header=None)\n",
    "df.head()\n",
    "print(f'Cantidad de lineas: {len(df)}')"
   ]
  },
  {
   "cell_type": "code",
   "execution_count": 9,
   "id": "f8c6f7db",
   "metadata": {},
   "outputs": [
    {
     "data": {
      "text/plain": [
       "[['high',\n",
       "  'up',\n",
       "  'crowning',\n",
       "  'the',\n",
       "  'grassy',\n",
       "  'summit',\n",
       "  'of',\n",
       "  'a',\n",
       "  'swelling',\n",
       "  'mound',\n",
       "  'whose',\n",
       "  'sides',\n",
       "  'are',\n",
       "  'wooded',\n",
       "  'near',\n",
       "  'the',\n",
       "  'base'],\n",
       " ['with',\n",
       "  'the',\n",
       "  'gnarled',\n",
       "  'trees',\n",
       "  'of',\n",
       "  'the',\n",
       "  'primeval',\n",
       "  'forest',\n",
       "  'stands',\n",
       "  'the',\n",
       "  'old',\n",
       "  'chateau',\n",
       "  'of',\n",
       "  'my',\n",
       "  'ancestors',\n",
       "  'for',\n",
       "  'centuries']]"
      ]
     },
     "execution_count": 9,
     "metadata": {},
     "output_type": "execute_result"
    }
   ],
   "source": [
    "sentence_tokens = []\n",
    "# Transformamos las oraciones en listas de palabras\n",
    "for _, row in df[:None].iterrows():\n",
    "    sentence_tokens.append(text_to_word_sequence(row[0]))\n",
    "\n",
    "sentence_tokens[:2]"
   ]
  },
  {
   "cell_type": "code",
   "execution_count": 40,
   "id": "613ed370",
   "metadata": {},
   "outputs": [],
   "source": [
    "class Callback(CallbackAny2Vec):\n",
    "    \"\"\"\n",
    "    Callback to print loss after each epoch\n",
    "    \"\"\"\n",
    "    def __init__(self, log:bool=False):\n",
    "        self.epoch = 0\n",
    "        self.loss = list()\n",
    "        self._log = log\n",
    "\n",
    "    def on_epoch_end(self, model):\n",
    "        loss = model.get_latest_training_loss()\n",
    "        if self._log:\n",
    "            if self.epoch == 0:\n",
    "                print('Loss after epoch {}: {}'.format(self.epoch, loss))\n",
    "            else:\n",
    "                print('Loss after epoch {}: {}'.format(self.epoch, loss - self.loss_previous_step))\n",
    "        self.epoch += 1\n",
    "        self.loss_previous_step = loss\n",
    "        self.loss.append(loss - self.loss_previous_step if self.epoch > 1 else loss)\n",
    "\n",
    "# Crearmos el modelo generador de vectores\n",
    "# En este caso utilizaremos la estructura modelo Skipgram\n",
    "w2v_model = Word2Vec(min_count=5, \n",
    "                window=2,\n",
    "                vector_size=300,\n",
    "                negative=20,    \n",
    "                sg=1)  # modelo 0:CBOW  1:skipgram"
   ]
  },
  {
   "cell_type": "code",
   "execution_count": 41,
   "id": "a947b39e",
   "metadata": {},
   "outputs": [
    {
     "name": "stdout",
     "output_type": "stream",
     "text": [
      "Cantidad de docs en el corpus: 45735\n",
      "Cantidad de palabras distintas en el corpus: 10243\n"
     ]
    }
   ],
   "source": [
    "# Obtener el vocabulario con los tokens\n",
    "w2v_model.build_vocab(sentence_tokens)\n",
    "# Cantidad de filas/docs encontradas en el corpus\n",
    "print(\"Cantidad de docs en el corpus:\", w2v_model.corpus_count)\n",
    "# Cantidad de palabras encontradas en el corpus\n",
    "print(\"Cantidad de palabras distintas en el corpus:\", len(w2v_model.wv.index_to_key))"
   ]
  },
  {
   "cell_type": "code",
   "execution_count": 42,
   "id": "0b25f614",
   "metadata": {},
   "outputs": [
    {
     "data": {
      "text/plain": [
       "(4743281, 6838660)"
      ]
     },
     "execution_count": 42,
     "metadata": {},
     "output_type": "execute_result"
    }
   ],
   "source": [
    "# Entrenamiento del modelo\n",
    "\n",
    "loss_logger = Callback(log=False)\n",
    "\n",
    "w2v_model.train(\n",
    "    sentence_tokens,\n",
    "    total_examples=w2v_model.corpus_count,\n",
    "    epochs=10,\n",
    "    compute_loss=True,\n",
    "    callbacks=[loss_logger])"
   ]
  },
  {
   "cell_type": "code",
   "execution_count": 45,
   "id": "cb27020f",
   "metadata": {},
   "outputs": [
    {
     "data": {
      "image/png": "[encoded data removed]",
      "text/plain": [
       "<Figure size 800x400 with 1 Axes>"
      ]
     },
     "metadata": {},
     "output_type": "display_data"
    }
   ],
   "source": [
    "# Plot training loss curve\n",
    "plt.figure(figsize=(8, 4))\n",
    "plt.plot(loss_logger.loss)\n",
    "plt.title('Word2Vec Training Loss per Epoch')\n",
    "plt.xlabel('Epoch')\n",
    "plt.ylabel('Loss')\n",
    "plt.grid(True)\n",
    "plt.show()"
   ]
  },
  {
   "cell_type": "markdown",
   "id": "e669e496",
   "metadata": {},
   "source": [
    "Se observa que el modelo converge rápidamente, luego de varias pruebas se decidió entrenar el modelo por 10 epochs."
   ]
  },
  {
   "cell_type": "code",
   "execution_count": 63,
   "id": "92155df7",
   "metadata": {},
   "outputs": [
    {
     "name": "stdout",
     "output_type": "stream",
     "text": [
      "\n",
      "Most similar to \"madness\":\n",
      "  delirium: 0.7973\n",
      "  folly: 0.7968\n",
      "  sanity: 0.7941\n",
      "  vengeance: 0.7855\n",
      "  inmost: 0.7786\n",
      "  supreme: 0.7723\n",
      "  instincts: 0.7693\n",
      "  serpents: 0.7692\n",
      "  poetry: 0.7680\n",
      "  aught: 0.7623\n",
      "\n",
      "Most similar to \"university\":\n",
      "  miskatonic: 0.8898\n",
      "  school: 0.8207\n",
      "  harvard: 0.8176\n",
      "  widener: 0.8161\n",
      "  museum: 0.8039\n",
      "  newburyport: 0.8007\n",
      "  library: 0.8002\n",
      "  college: 0.7944\n",
      "  american: 0.7863\n",
      "  medical: 0.7824\n",
      "\n",
      "Most similar to \"ancient\":\n",
      "  venerable: 0.7055\n",
      "  antique: 0.6978\n",
      "  archaic: 0.6785\n",
      "  old: 0.6568\n",
      "  prehistoric: 0.6409\n",
      "  centuried: 0.6409\n",
      "  tottering: 0.6348\n",
      "  hoary: 0.6329\n",
      "  manuscripts: 0.6282\n",
      "  isolated: 0.6280\n",
      "\n",
      "Most similar to \"cult\":\n",
      "  legend: 0.8002\n",
      "  pnakotic: 0.7990\n",
      "  arts: 0.7919\n",
      "  manuscripts: 0.7907\n",
      "  hyperborea: 0.7891\n",
      "  racial: 0.7872\n",
      "  hereditary: 0.7803\n",
      "  tsathoggua: 0.7785\n",
      "  catacombs: 0.7772\n",
      "  workmanship: 0.7750\n"
     ]
    }
   ],
   "source": [
    "words_of_interest = ['madness', 'university', 'ancient', 'cult']\n",
    "non_existent_word = ['sadfr']\n",
    "\n",
    "for word in words_of_interest:\n",
    "    print(f'\\nMost similar to \"{word}\":')\n",
    "    for similar_word, similarity in w2v_model.wv.most_similar(word, topn=10):\n",
    "        print(f'  {similar_word}: {similarity:.4f}')\n"
   ]
  },
  {
   "cell_type": "markdown",
   "id": "cd9e3d49",
   "metadata": {},
   "source": [
    "Podemos notar que en algunos casos las palabras similares son sinónimos o están relacionadas semánticamente, como \"madness\" y \"insanity\", o \"university\" y \"college\". Pero en otros casos la similitud solo tiene sentido dentro del contexto de los relatos de Lovecraft, como \"university\" y \"miskatonic\" ya que la Universidad de Miskatonic es una institución ficticia en los relatos de Lovecraft."
   ]
  },
  {
   "cell_type": "code",
   "execution_count": 61,
   "id": "d838868f",
   "metadata": {},
   "outputs": [],
   "source": [
    "# También se pueden guardar los vectores y labels como tsv para graficar en\n",
    "# http://projector.tensorflow.org/\n",
    "\n",
    "vectors = np.asarray(w2v_model.wv.vectors)\n",
    "labels = list(w2v_model.wv.index_to_key)\n",
    "\n",
    "np.savetxt(\"vectors.tsv\", vectors, delimiter=\"\\t\")\n",
    "\n",
    "with open(\"labels.tsv\", \"w\") as fp:\n",
    "    for item in labels:\n",
    "        fp.write(\"%s\\n\" % item)"
   ]
  },
  {
   "cell_type": "markdown",
   "id": "c86884e8",
   "metadata": {},
   "source": [
    "![imagen](./images/image.png)"
   ]
  }
 ],
 "metadata": {
  "kernelspec": {
   "display_name": "SV_analytics",
   "language": "python",
   "name": "python3"
  },
  "language_info": {
   "codemirror_mode": {
    "name": "ipython",
    "version": 3
   },
   "file_extension": ".py",
   "mimetype": "text/x-python",
   "name": "python",
   "nbconvert_exporter": "python",
   "pygments_lexer": "ipython3",
   "version": "3.9.17"
  }
 },
 "nbformat": 4,
 "nbformat_minor": 5
}
